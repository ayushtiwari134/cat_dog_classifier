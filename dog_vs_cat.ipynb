{
  "nbformat": 4,
  "nbformat_minor": 0,
  "metadata": {
    "colab": {
      "provenance": [],
      "gpuType": "T4",
      "authorship_tag": "ABX9TyPvnYjyzuoPcLqAhPsjWlGL"
    },
    "kernelspec": {
      "name": "python3",
      "display_name": "Python 3"
    },
    "language_info": {
      "name": "python"
    },
    "accelerator": "GPU"
  },
  "cells": [
    {
      "cell_type": "code",
      "execution_count": 2,
      "metadata": {
        "id": "k3b8poCdcaIC"
      },
      "outputs": [],
      "source": [
        "!mkdir -p ~/.kaggle\n",
        "!cp kaggle.json ~/.kaggle/"
      ]
    },
    {
      "cell_type": "code",
      "source": [
        "!kaggle datasets download -d salader/dogs-vs-cats"
      ],
      "metadata": {
        "colab": {
          "base_uri": "https://localhost:8080/"
        },
        "id": "gIlcmg8rkADe",
        "outputId": "29ed416e-b454-415d-aee9-492a6fdccb2e"
      },
      "execution_count": 4,
      "outputs": [
        {
          "output_type": "stream",
          "name": "stdout",
          "text": [
            "Warning: Your Kaggle API key is readable by other users on this system! To fix this, you can run 'chmod 600 /root/.kaggle/kaggle.json'\n",
            "Downloading dogs-vs-cats.zip to /content\n",
            "100% 1.06G/1.06G [00:27<00:00, 43.2MB/s]\n",
            "100% 1.06G/1.06G [00:27<00:00, 42.1MB/s]\n"
          ]
        }
      ]
    },
    {
      "cell_type": "code",
      "source": [
        "import zipfile\n",
        "zip_ref = zipfile.ZipFile('/content/dogs-vs-cats.zip', 'r')\n",
        "zip_ref.extractall('/content')\n",
        "zip_ref.close()"
      ],
      "metadata": {
        "id": "r6vjWnxgkAF4"
      },
      "execution_count": 5,
      "outputs": []
    },
    {
      "cell_type": "code",
      "source": [
        "import tensorflow as tf\n",
        "from tensorflow import keras\n",
        "from keras import Sequential\n",
        "from keras.layers import Dense,Conv2D,MaxPooling2D,Flatten,BatchNormalization,Dropout\n"
      ],
      "metadata": {
        "id": "uJAIhMrskAId"
      },
      "execution_count": 32,
      "outputs": []
    },
    {
      "cell_type": "code",
      "source": [
        "# generators\n",
        "train_ds = keras.utils.image_dataset_from_directory(\n",
        "    directory = '/content/train',\n",
        "    labels='inferred',\n",
        "    label_mode = 'int',\n",
        "    batch_size=32,\n",
        "    image_size=(256,256)\n",
        ")\n",
        "\n",
        "validation_ds = keras.utils.image_dataset_from_directory(\n",
        "    directory = '/content/test',\n",
        "    labels='inferred',\n",
        "    label_mode = 'int',\n",
        "    batch_size=32,\n",
        "    image_size=(256,256)\n",
        ")"
      ],
      "metadata": {
        "colab": {
          "base_uri": "https://localhost:8080/"
        },
        "id": "s1TvSkNXkANc",
        "outputId": "05354a11-75f2-4586-b1cf-036114353487"
      },
      "execution_count": 7,
      "outputs": [
        {
          "output_type": "stream",
          "name": "stdout",
          "text": [
            "Found 20000 files belonging to 2 classes.\n",
            "Found 5000 files belonging to 2 classes.\n"
          ]
        }
      ]
    },
    {
      "cell_type": "code",
      "source": [
        "# Normalize\n",
        "def process(image,label):\n",
        "    image = tf.cast(image/255. ,tf.float32)\n",
        "    return image,label\n",
        "\n",
        "train_ds = train_ds.map(process)\n",
        "validation_ds = validation_ds.map(process)"
      ],
      "metadata": {
        "id": "zoAdHgS5k1fm"
      },
      "execution_count": 8,
      "outputs": []
    },
    {
      "cell_type": "code",
      "source": [
        "model = Sequential()\n",
        "\n",
        "model.add(Conv2D(32,kernel_size=(3,3),padding='valid',activation='relu',input_shape=(256,256,3)))\n",
        "model.add(MaxPooling2D(pool_size=(2,2),strides=2,padding='valid'))\n",
        "\n",
        "model.add(Conv2D(64,kernel_size=(3,3),padding='valid',activation='relu',input_shape=(256,256,3)))\n",
        "model.add(MaxPooling2D(pool_size=(2,2),strides=2,padding='valid'))\n",
        "\n",
        "model.add(Conv2D(128,kernel_size=(3,3),padding='valid',activation='relu',input_shape=(256,256,3)))\n",
        "model.add(MaxPooling2D(pool_size=(2,2),strides=2,padding='valid'))\n",
        "\n",
        "model.add(Flatten())\n",
        "\n",
        "model.add(Dense(128,activation='relu'))\n",
        "model.add(Dense(64,activation='relu'))\n",
        "model.add(Dense(1,activation='sigmoid'))\n"
      ],
      "metadata": {
        "id": "mDo3LgPGk8gf"
      },
      "execution_count": 10,
      "outputs": []
    },
    {
      "cell_type": "code",
      "source": [
        "model.summary()"
      ],
      "metadata": {
        "colab": {
          "base_uri": "https://localhost:8080/"
        },
        "id": "YDG5-RRikAee",
        "outputId": "0a8c95c7-7a32-418e-ead6-7096f642e8a7"
      },
      "execution_count": 11,
      "outputs": [
        {
          "output_type": "stream",
          "name": "stdout",
          "text": [
            "Model: \"sequential_1\"\n",
            "_________________________________________________________________\n",
            " Layer (type)                Output Shape              Param #   \n",
            "=================================================================\n",
            " conv2d_3 (Conv2D)           (None, 254, 254, 32)      896       \n",
            "                                                                 \n",
            " max_pooling2d_3 (MaxPoolin  (None, 127, 127, 32)      0         \n",
            " g2D)                                                            \n",
            "                                                                 \n",
            " conv2d_4 (Conv2D)           (None, 125, 125, 64)      18496     \n",
            "                                                                 \n",
            " max_pooling2d_4 (MaxPoolin  (None, 62, 62, 64)        0         \n",
            " g2D)                                                            \n",
            "                                                                 \n",
            " conv2d_5 (Conv2D)           (None, 60, 60, 128)       73856     \n",
            "                                                                 \n",
            " max_pooling2d_5 (MaxPoolin  (None, 30, 30, 128)       0         \n",
            " g2D)                                                            \n",
            "                                                                 \n",
            " flatten_1 (Flatten)         (None, 115200)            0         \n",
            "                                                                 \n",
            " dense_2 (Dense)             (None, 128)               14745728  \n",
            "                                                                 \n",
            " dense_3 (Dense)             (None, 64)                8256      \n",
            "                                                                 \n",
            " dense_4 (Dense)             (None, 1)                 65        \n",
            "                                                                 \n",
            "=================================================================\n",
            "Total params: 14847297 (56.64 MB)\n",
            "Trainable params: 14847297 (56.64 MB)\n",
            "Non-trainable params: 0 (0.00 Byte)\n",
            "_________________________________________________________________\n"
          ]
        }
      ]
    },
    {
      "cell_type": "code",
      "source": [
        "model.compile(optimizer='adam',loss='binary_crossentropy',metrics=['accuracy'])"
      ],
      "metadata": {
        "id": "9qYs4uPFkAki"
      },
      "execution_count": 12,
      "outputs": []
    },
    {
      "cell_type": "code",
      "source": [
        "history = model.fit(train_ds,epochs=10,validation_data=validation_ds)"
      ],
      "metadata": {
        "colab": {
          "base_uri": "https://localhost:8080/"
        },
        "id": "-y0LGFvYl0Hr",
        "outputId": "f9a39e73-74a5-4ef0-ad64-cd55a899bbe1"
      },
      "execution_count": 13,
      "outputs": [
        {
          "output_type": "stream",
          "name": "stdout",
          "text": [
            "Epoch 1/10\n",
            "625/625 [==============================] - 64s 90ms/step - loss: 0.5947 - accuracy: 0.6692 - val_loss: 0.5290 - val_accuracy: 0.7234\n",
            "Epoch 2/10\n",
            "625/625 [==============================] - 53s 85ms/step - loss: 0.4529 - accuracy: 0.7866 - val_loss: 0.4366 - val_accuracy: 0.8036\n",
            "Epoch 3/10\n",
            "625/625 [==============================] - 54s 85ms/step - loss: 0.3270 - accuracy: 0.8549 - val_loss: 0.5867 - val_accuracy: 0.7766\n",
            "Epoch 4/10\n",
            "625/625 [==============================] - 55s 87ms/step - loss: 0.1943 - accuracy: 0.9173 - val_loss: 0.7880 - val_accuracy: 0.7870\n",
            "Epoch 5/10\n",
            "625/625 [==============================] - 56s 90ms/step - loss: 0.1118 - accuracy: 0.9579 - val_loss: 0.9073 - val_accuracy: 0.7900\n",
            "Epoch 6/10\n",
            "625/625 [==============================] - 55s 88ms/step - loss: 0.0634 - accuracy: 0.9766 - val_loss: 1.0995 - val_accuracy: 0.7834\n",
            "Epoch 7/10\n",
            "625/625 [==============================] - 53s 85ms/step - loss: 0.0534 - accuracy: 0.9826 - val_loss: 1.1666 - val_accuracy: 0.7822\n",
            "Epoch 8/10\n",
            "625/625 [==============================] - 57s 90ms/step - loss: 0.0449 - accuracy: 0.9847 - val_loss: 1.2474 - val_accuracy: 0.7904\n",
            "Epoch 9/10\n",
            "625/625 [==============================] - 56s 89ms/step - loss: 0.0349 - accuracy: 0.9901 - val_loss: 1.4135 - val_accuracy: 0.7748\n",
            "Epoch 10/10\n",
            "625/625 [==============================] - 57s 90ms/step - loss: 0.0233 - accuracy: 0.9928 - val_loss: 1.6045 - val_accuracy: 0.7782\n"
          ]
        }
      ]
    },
    {
      "cell_type": "code",
      "source": [
        "import matplotlib.pyplot as plt\n",
        "\n",
        "plt.plot(history.history['accuracy'],color='red',label='train')\n",
        "plt.plot(history.history['val_accuracy'],color='blue',label='validation')\n",
        "plt.legend()\n",
        "plt.show()"
      ],
      "metadata": {
        "colab": {
          "base_uri": "https://localhost:8080/",
          "height": 430
        },
        "id": "6ydqYlrhkApN",
        "outputId": "8f9f010a-3888-43a9-ceea-3d0cc0ff7b0a"
      },
      "execution_count": 14,
      "outputs": [
        {
          "output_type": "display_data",
          "data": {
            "text/plain": [
              "<Figure size 640x480 with 1 Axes>"
            ],
            "image/png": "[encoded data removed]"
          },
          "metadata": {}
        }
      ]
    },
    {
      "cell_type": "code",
      "source": [
        "model1 = Sequential()\n",
        "\n",
        "model1.add(Conv2D(32,kernel_size=(3,3),padding='valid',activation='relu',input_shape=(256,256,3)))\n",
        "model.add(BatchNormalization())\n",
        "model1.add(MaxPooling2D(pool_size=(2,2),strides=2,padding='valid'))\n",
        "\n",
        "model1.add(Conv2D(64,kernel_size=(3,3),padding='valid',activation='relu',input_shape=(256,256,3)))\n",
        "model.add(BatchNormalization())\n",
        "model1.add(MaxPooling2D(pool_size=(2,2),strides=2,padding='valid'))\n",
        "\n",
        "model1.add(Conv2D(128,kernel_size=(3,3),padding='valid',activation='relu',input_shape=(256,256,3)))\n",
        "model.add(BatchNormalization())\n",
        "model1.add(MaxPooling2D(pool_size=(2,2),strides=2,padding='valid'))\n",
        "\n",
        "model1.add(Conv2D(256,kernel_size=(3,3),padding='valid',activation='relu',input_shape=(256,256,3)))\n",
        "model.add(BatchNormalization())\n",
        "model1.add(MaxPooling2D(pool_size=(2,2),strides=2,padding='valid'))\n",
        "\n",
        "model1.add(Flatten())\n",
        "\n",
        "model1.add(Dense(128,activation='relu'))\n",
        "model.add(Dropout(0.1))\n",
        "model1.add(Dense(32,activation='relu'))\n",
        "model.add(Dropout(0.1))\n",
        "model1.add(Dense(128,activation='relu'))\n",
        "model.add(Dropout(0.1))\n",
        "model1.add(Dense(64,activation='relu'))\n",
        "model.add(Dropout(0.1))\n",
        "model1.add(Dense(1,activation='sigmoid'))"
      ],
      "metadata": {
        "id": "XxJiBku8kAry"
      },
      "execution_count": 35,
      "outputs": []
    },
    {
      "cell_type": "code",
      "source": [
        "model1.summary()"
      ],
      "metadata": {
        "colab": {
          "base_uri": "https://localhost:8080/"
        },
        "id": "KNP6P-WXkAt4",
        "outputId": "1a7b20e8-6993-4ea5-870d-7c45340dd804"
      },
      "execution_count": 36,
      "outputs": [
        {
          "output_type": "stream",
          "name": "stdout",
          "text": [
            "Model: \"sequential_8\"\n",
            "_________________________________________________________________\n",
            " Layer (type)                Output Shape              Param #   \n",
            "=================================================================\n",
            " conv2d_30 (Conv2D)          (None, 254, 254, 32)      896       \n",
            "                                                                 \n",
            " max_pooling2d_30 (MaxPooli  (None, 127, 127, 32)      0         \n",
            " ng2D)                                                           \n",
            "                                                                 \n",
            " conv2d_31 (Conv2D)          (None, 125, 125, 64)      18496     \n",
            "                                                                 \n",
            " max_pooling2d_31 (MaxPooli  (None, 62, 62, 64)        0         \n",
            " ng2D)                                                           \n",
            "                                                                 \n",
            " conv2d_32 (Conv2D)          (None, 60, 60, 128)       73856     \n",
            "                                                                 \n",
            " max_pooling2d_32 (MaxPooli  (None, 30, 30, 128)       0         \n",
            " ng2D)                                                           \n",
            "                                                                 \n",
            " conv2d_33 (Conv2D)          (None, 28, 28, 256)       295168    \n",
            "                                                                 \n",
            " max_pooling2d_33 (MaxPooli  (None, 14, 14, 256)       0         \n",
            " ng2D)                                                           \n",
            "                                                                 \n",
            " flatten_8 (Flatten)         (None, 50176)             0         \n",
            "                                                                 \n",
            " dense_34 (Dense)            (None, 128)               6422656   \n",
            "                                                                 \n",
            " dense_35 (Dense)            (None, 32)                4128      \n",
            "                                                                 \n",
            " dense_36 (Dense)            (None, 128)               4224      \n",
            "                                                                 \n",
            " dense_37 (Dense)            (None, 64)                8256      \n",
            "                                                                 \n",
            " dense_38 (Dense)            (None, 1)                 65        \n",
            "                                                                 \n",
            "=================================================================\n",
            "Total params: 6827745 (26.05 MB)\n",
            "Trainable params: 6827745 (26.05 MB)\n",
            "Non-trainable params: 0 (0.00 Byte)\n",
            "_________________________________________________________________\n"
          ]
        }
      ]
    },
    {
      "cell_type": "code",
      "source": [
        "model1.compile(optimizer='adam',loss='binary_crossentropy',metrics=['accuracy'])"
      ],
      "metadata": {
        "id": "VBrusYMckAwX"
      },
      "execution_count": 37,
      "outputs": []
    },
    {
      "cell_type": "code",
      "source": [
        "history1 = model1.fit(train_ds,epochs=15,validation_data=validation_ds)"
      ],
      "metadata": {
        "colab": {
          "base_uri": "https://localhost:8080/"
        },
        "id": "hbluvuRukA1O",
        "outputId": "49afbb10-4434-4ed8-86f4-de51f02b4a3b"
      },
      "execution_count": 38,
      "outputs": [
        {
          "output_type": "stream",
          "name": "stdout",
          "text": [
            "Epoch 1/15\n",
            "625/625 [==============================] - 61s 91ms/step - loss: 0.6885 - accuracy: 0.5335 - val_loss: 0.6805 - val_accuracy: 0.5664\n",
            "Epoch 2/15\n",
            "625/625 [==============================] - 58s 92ms/step - loss: 0.6257 - accuracy: 0.6454 - val_loss: 0.5555 - val_accuracy: 0.7188\n",
            "Epoch 3/15\n",
            "625/625 [==============================] - 58s 92ms/step - loss: 0.5037 - accuracy: 0.7531 - val_loss: 0.4808 - val_accuracy: 0.7722\n",
            "Epoch 4/15\n",
            "625/625 [==============================] - 55s 86ms/step - loss: 0.4048 - accuracy: 0.8152 - val_loss: 0.4383 - val_accuracy: 0.8038\n",
            "Epoch 5/15\n",
            "625/625 [==============================] - 58s 92ms/step - loss: 0.3213 - accuracy: 0.8576 - val_loss: 0.4024 - val_accuracy: 0.8210\n",
            "Epoch 6/15\n",
            "625/625 [==============================] - 57s 90ms/step - loss: 0.2312 - accuracy: 0.9049 - val_loss: 0.4205 - val_accuracy: 0.8322\n",
            "Epoch 7/15\n",
            "625/625 [==============================] - 55s 87ms/step - loss: 0.1614 - accuracy: 0.9353 - val_loss: 0.5084 - val_accuracy: 0.8242\n",
            "Epoch 8/15\n",
            "625/625 [==============================] - 56s 89ms/step - loss: 0.1076 - accuracy: 0.9584 - val_loss: 0.7227 - val_accuracy: 0.8310\n",
            "Epoch 9/15\n",
            "625/625 [==============================] - 56s 88ms/step - loss: 0.0793 - accuracy: 0.9707 - val_loss: 0.8712 - val_accuracy: 0.8234\n",
            "Epoch 10/15\n",
            "625/625 [==============================] - 58s 93ms/step - loss: 0.0569 - accuracy: 0.9793 - val_loss: 0.9485 - val_accuracy: 0.8228\n",
            "Epoch 11/15\n",
            "625/625 [==============================] - 57s 91ms/step - loss: 0.0432 - accuracy: 0.9837 - val_loss: 1.0457 - val_accuracy: 0.8254\n",
            "Epoch 12/15\n",
            "625/625 [==============================] - 59s 93ms/step - loss: 0.0328 - accuracy: 0.9888 - val_loss: 1.0309 - val_accuracy: 0.8158\n",
            "Epoch 13/15\n",
            "625/625 [==============================] - 58s 93ms/step - loss: 0.0312 - accuracy: 0.9890 - val_loss: 1.3113 - val_accuracy: 0.8242\n",
            "Epoch 14/15\n",
            "625/625 [==============================] - 55s 87ms/step - loss: 0.0399 - accuracy: 0.9858 - val_loss: 1.1267 - val_accuracy: 0.8240\n",
            "Epoch 15/15\n",
            "625/625 [==============================] - 54s 87ms/step - loss: 0.0290 - accuracy: 0.9912 - val_loss: 1.0920 - val_accuracy: 0.8204\n"
          ]
        }
      ]
    },
    {
      "cell_type": "code",
      "source": [
        "plt.plot(history1.history['accuracy'],color='red',label='train')\n",
        "plt.plot(history1.history['val_accuracy'],color='blue',label='validation')\n",
        "plt.legend()\n",
        "plt.show()"
      ],
      "metadata": {
        "colab": {
          "base_uri": "https://localhost:8080/",
          "height": 430
        },
        "id": "qjTxwOE2kA3l",
        "outputId": "cba61d69-6b45-4fff-ff64-c4fb665e8c37"
      },
      "execution_count": 39,
      "outputs": [
        {
          "output_type": "display_data",
          "data": {
            "text/plain": [
              "<Figure size 640x480 with 1 Axes>"
            ],
            "image/png": "[encoded data removed]"
          },
          "metadata": {}
        }
      ]
    },
    {
      "cell_type": "code",
      "source": [],
      "metadata": {
        "id": "aK-iZkKakA-Z"
      },
      "execution_count": null,
      "outputs": []
    },
    {
      "cell_type": "code",
      "source": [],
      "metadata": {
        "id": "R1-EjfZ3kBAn"
      },
      "execution_count": null,
      "outputs": []
    },
    {
      "cell_type": "code",
      "source": [],
      "metadata": {
        "id": "JkLOxuxzkBFn"
      },
      "execution_count": null,
      "outputs": []
    }
  ]
}